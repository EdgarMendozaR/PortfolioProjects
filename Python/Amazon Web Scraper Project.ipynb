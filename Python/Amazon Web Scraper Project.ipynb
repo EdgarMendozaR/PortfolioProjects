{
 "cells": [
  {
   "cell_type": "code",
   "execution_count": 4,
   "metadata": {},
   "outputs": [],
   "source": [
    "from bs4 import BeautifulSoup\n",
    "import requests\n",
    "import time\n",
    "import datetime\n",
    "import smtplib"
   ]
  },
  {
   "cell_type": "code",
   "execution_count": 35,
   "metadata": {},
   "outputs": [
    {
     "name": "stdout",
     "output_type": "stream",
     "text": [
      "\n",
      "                    Yuccalley Sudaderas con capucha de manga larga para hombre, sudaderas casuales\n",
      "                   \n",
      "\n",
      "                      US$26.98\n",
      "                     \n"
     ]
    }
   ],
   "source": [
    "#Conectar a la pagina web\n",
    "# Find user agent ling : https://httpbin.org/get\n",
    " \n",
    "URL = 'https://www.amazon.com/-/es/Yuccalley-Sudaderas-capucha-sudaderas-casuales/dp/B07VNDQG1N/ref=sr_1_7?keywords=the%2Bwitcher%2Bt%2Bshirts%2Bfor%2Bmen&sr=8-7&th=1'\n",
    "\n",
    "headers = {\"User-Agent\": \"Mozilla/5.0 (Windows NT 10.0; Win64; x64) AppleWebKit/537.36 (KHTML, like Gecko) Chrome/117.0.0.0 Safari/537.36\", \"Accept-Encoding\":\"gzip, deflate, br\", \"Accept\":\"text/html,application/xhtml+xml,application/xml;q=0.9,image/avif,image/webp,image/apng,*/*;q=0.8\"\n",
    "           , \"DNT\":\"1\",\"Connection\":\"close\", \"Upgrade-Insecure-Requests\":\"1\"}\n",
    "\n",
    "page = requests.get(URL, headers=headers) # usamos request para solicitar la informacion html del sitio web\n",
    "\n",
    "soup1 = BeautifulSoup(page.content, \"html.parser\") # y con beautifulsoup procederemos a analizar esta informacion\n",
    "\n",
    "soup2 = BeautifulSoup(soup1.prettify(), \"html.parser\") #mejoramos la apariencia con sangrias, espacios, etc\n",
    "\n",
    "title = soup2.find(id=\"productTitle\").get_text()\n",
    "\n",
    "price = soup2.find(class_=\"a-offscreen\").get_text()\n",
    "\n",
    "print(title)\n",
    "print(price)"
   ]
  },
  {
   "cell_type": "code",
   "execution_count": 36,
   "metadata": {},
   "outputs": [
    {
     "name": "stdout",
     "output_type": "stream",
     "text": [
      "Yuccalley Sudaderas con capucha de manga larga para hombre, sudaderas casuales\n",
      "26.98\n"
     ]
    },
    {
     "data": {
      "text/plain": [
       "str"
      ]
     },
     "execution_count": 36,
     "metadata": {},
     "output_type": "execute_result"
    }
   ],
   "source": [
    "price = price.strip()[3:] #con .strip eliminamos espacios en blanco innescesarios\n",
    "title = title.strip()\n",
    "\n",
    "print(title)\n",
    "print(price)\n",
    "type(price)"
   ]
  },
  {
   "cell_type": "code",
   "execution_count": 50,
   "metadata": {},
   "outputs": [
    {
     "name": "stdout",
     "output_type": "stream",
     "text": [
      "2023-09-22\n"
     ]
    }
   ],
   "source": [
    "#import datetime\n",
    "today = datetime.date.today()\n",
    "print(today)"
   ]
  },
  {
   "cell_type": "code",
   "execution_count": 53,
   "metadata": {},
   "outputs": [
    {
     "name": "stdout",
     "output_type": "stream",
     "text": [
      "['Title', 'Price', 'Date']\n",
      "['Yuccalley Sudaderas con capucha de manga larga para hombre, sudaderas casuales', '26.98', datetime.date(2023, 9, 22)]\n"
     ]
    }
   ],
   "source": [
    "import csv\n",
    "\n",
    "header = [\"Title\", \"Price\",\"Date\"]\n",
    "data = [title, price, today]\n",
    "\n",
    "print(header)\n",
    "print(data)\n",
    "\n",
    "#with open(\"Amazon Web ScraperDataset.csv\", \"w\", newline=\"\", encoding=\"UTF8\") as f: #creamos un archivo .CSV la premisa with abre el archivo y cuando termina su bloque se cierra nuevamente\n",
    "#    writer = csv.writer(f)\n",
    "#    writer.writerow(header)\n",
    "#    writer.writerow(data) \n",
    "#Comentamos todo el bloque anterior para evitar por error en una próxima ejecucion del codigo borrar por accidente la base de datos ya q \"w\" reescribe mas no adjunta como \"a+\"\n",
    "    "
   ]
  },
  {
   "cell_type": "code",
   "execution_count": 56,
   "metadata": {},
   "outputs": [
    {
     "name": "stdout",
     "output_type": "stream",
     "text": [
      "                                               Title  Price        Date\n",
      "0  Yuccalley Sudaderas con capucha de manga larga...  26.98  2023-09-22\n",
      "1  Yuccalley Sudaderas con capucha de manga larga...  26.98  2023-09-22\n"
     ]
    }
   ],
   "source": [
    "import pandas as pd\n",
    "\n",
    "df = pd.read_csv(\"D:\\Data Analytics\\Bootcamp Alex the analyst\\Proyectos\\Python\\Amazon Web ScraperDataset.csv\")\n",
    "print(df)"
   ]
  },
  {
   "cell_type": "code",
   "execution_count": 55,
   "metadata": {},
   "outputs": [],
   "source": [
    "#Con esto adjuntaremos informacion al CSV\n",
    "\n",
    "with open(\"Amazon Web ScraperDataset.csv\", \"a+\", newline=\"\", encoding=\"UTF8\") as f: #con a+ añadimos nueva informacion al archivo sin sobreescribirlo\n",
    "    writer = csv.writer(f)\n",
    "    writer.writerow(data) "
   ]
  },
  {
   "cell_type": "code",
   "execution_count": 58,
   "metadata": {},
   "outputs": [],
   "source": [
    "def check_price():\n",
    "    URL = 'https://www.amazon.com/-/es/Yuccalley-Sudaderas-capucha-sudaderas-casuales/dp/B07VNDQG1N/ref=sr_1_7?keywords=the%2Bwitcher%2Bt%2Bshirts%2Bfor%2Bmen&sr=8-7&th=1'\n",
    "    \n",
    "    headers = {\"User-Agent\": \"Mozilla/5.0 (Windows NT 10.0; Win64; x64) AppleWebKit/537.36 (KHTML, like Gecko) Chrome/117.0.0.0 Safari/537.36\", \"Accept-Encoding\":\"gzip, deflate, br\", \"Accept\":\"text/html,application/xhtml+xml,application/xml;q=0.9,image/avif,image/webp,image/apng,*/*;q=0.8\", \"DNT\":\"1\",\"Connection\":\"close\", \"Upgrade-Insecure-Requests\":\"1\"}\n",
    "\n",
    "    page = requests.get(URL, headers=headers) # usamos request para solicitar la informacion html del sitio web\n",
    "\n",
    "    soup1 = BeautifulSoup(page.content, \"html.parser\") # y con beautifulsoup procederemos a analizar esta informacion\n",
    "\n",
    "    soup2 = BeautifulSoup(soup1.prettify(), \"html.parser\") #mejoramos la apariencia con sangrias, espacios, etc\n",
    "\n",
    "    title = soup2.find(id=\"productTitle\").get_text()\n",
    "\n",
    "    price = soup2.find(class_=\"a-offscreen\").get_text()\n",
    "\n",
    "    price = price.strip()[3:] \n",
    "    title = title.strip()\n",
    "\n",
    "    today = datetime.date.today()\n",
    "\n",
    "    header = [\"Title\", \"Price\",\"Date\"]\n",
    "    data = [title, price, today]\n",
    "\n",
    "    with open(\"Amazon Web ScraperDataset.csv\", \"a+\", newline=\"\", encoding=\"UTF8\") as f: #con a+ añadimos nueva informacion al archivo sin sobreescribirlo\n",
    "        writer = csv.writer(f)\n",
    "        writer.writerow(data) \n",
    "\n",
    "    if (price < 20):\n",
    "        send_mail\n",
    "\n",
    "\n",
    "\n",
    "\n",
    "    "
   ]
  },
  {
   "cell_type": "code",
   "execution_count": null,
   "metadata": {},
   "outputs": [],
   "source": [
    "while(True):\n",
    "    check_price()\n",
    "    time.sleep(86400) #un dia tiene esa cantidad de segundos"
   ]
  },
  {
   "cell_type": "code",
   "execution_count": 60,
   "metadata": {},
   "outputs": [
    {
     "name": "stdout",
     "output_type": "stream",
     "text": [
      "                                               Title  Price        Date\n",
      "0  Yuccalley Sudaderas con capucha de manga larga...  26.98  2023-09-22\n",
      "1  Yuccalley Sudaderas con capucha de manga larga...  26.98  2023-09-22\n",
      "2  Yuccalley Sudaderas con capucha de manga larga...  26.98  2023-09-22\n",
      "3  Yuccalley Sudaderas con capucha de manga larga...  26.98  2023-09-22\n"
     ]
    }
   ],
   "source": [
    "df = pd.read_csv(\"D:\\Data Analytics\\Bootcamp Alex the analyst\\Proyectos\\Python\\Amazon Web ScraperDataset.csv\")\n",
    "print(df)"
   ]
  },
  {
   "cell_type": "code",
   "execution_count": null,
   "metadata": {},
   "outputs": [],
   "source": [
    "def send_mail():\n",
    "    server = smtplib.SMTP_SSL(\"smtp.gmail.com\",465)\n",
    "    server.ehlo()\n",
    "    #server.starttls()\n",
    "    server.ehlo()\n",
    "    server.login(\"emendozar2@gmail.com\",\"xxxxxx\")\n",
    "\n",
    "    subject = \"El polo que quieres esta en promocion!!!!\"\n",
    "    body = \"Edgar, este es el momento compra compra compra\"\n",
    "\n",
    "    msg= f\"Subject: {subject}\\n\\n{body}\"\n",
    "\n",
    "    server.sendmail(\n",
    "        \"emendozar2@gmail.com\", msg\n",
    "    )"
   ]
  },
  {
   "cell_type": "code",
   "execution_count": null,
   "metadata": {},
   "outputs": [],
   "source": []
  },
  {
   "cell_type": "code",
   "execution_count": null,
   "metadata": {},
   "outputs": [],
   "source": []
  },
  {
   "cell_type": "code",
   "execution_count": null,
   "metadata": {},
   "outputs": [],
   "source": []
  },
  {
   "cell_type": "code",
   "execution_count": null,
   "metadata": {},
   "outputs": [],
   "source": []
  },
  {
   "cell_type": "code",
   "execution_count": null,
   "metadata": {},
   "outputs": [],
   "source": []
  }
 ],
 "metadata": {
  "kernelspec": {
   "display_name": "Python 3",
   "language": "python",
   "name": "python3"
  },
  "language_info": {
   "codemirror_mode": {
    "name": "ipython",
    "version": 3
   },
   "file_extension": ".py",
   "mimetype": "text/x-python",
   "name": "python",
   "nbconvert_exporter": "python",
   "pygments_lexer": "ipython3",
   "version": "3.11.4"
  },
  "orig_nbformat": 4
 },
 "nbformat": 4,
 "nbformat_minor": 2
}
